{
 "cells": [
  {
   "cell_type": "code",
   "execution_count": 20,
   "id": "ea187232-ded7-4a58-ae5f-f1692f312922",
   "metadata": {},
   "outputs": [],
   "source": [
    "from pymatgen.core import Composition, Element\n",
    "from pymatgen.analysis.phase_diagram import PhaseDiagram, PDEntry\n",
    "\n",
    "# Define the chemical formula and formation energy of the material\n",
    "chemical_formula = \"(Si8)(Al2Mg2)O20(OH)4\"\n",
    "composition = Composition(chemical_formula)\n"
   ]
  },
  {
   "cell_type": "code",
   "execution_count": 19,
   "id": "9ce7a658-959a-450b-8717-fca551ae6072",
   "metadata": {},
   "outputs": [],
   "source": [
    "from itertools import product\n",
    "\n",
    "fractions = [0.01, 0.02, 0.03, 0.04, 0.05, 0.06, 0.07, 0.08, 0.09, 0.10, 0.11, 0.12, 0.13, 0.14, 0.15, 0.16, 0.17, 0.18, 0.19, 0.20, 0.21, 0.22, 0.23, 0.24, 0.25, 0.26, 0.27, 0.28, 0.29, 0.30, 0.31, 0.32, 0.33, 0.34, 0.35, 0.36, 0.37, 0.38, 0.39, 0.40, 0.41, 0.42, 0.43, 0.44, 0.45, 0.46, 0.47, 0.48, 0.49, 0.50, 0.51, 0.52, 0.53, 0.54, 0.55, 0.56, 0.57, 0.58, 0.59, 0.60, 0.61, 0.62, 0.63, 0.64, 0.65, 0.66, 0.67, 0.68, 0.69, 0.70, 0.71, 0.72, 0.73, 0.74, 0.75, 0.76, 0.77, 0.78, 0.79, 0.80, 0.81, 0.82, 0.83, 0.84, 0.85, 0.86, 0.87, 0.88, 0.89, 0.90, 0.91, 0.92, 0.93, 0.94, 0.95, 0.96, 0.97, 0.98, 0.99, 1.00]\n",
    "combinations = list(product(fractions, repeat=2))"
   ]
  },
  {
   "cell_type": "code",
   "execution_count": 23,
   "id": "4331268d-357c-42f0-b0d9-46aa59c2f62f",
   "metadata": {
    "tags": []
   },
   "outputs": [],
   "source": [
    "valid_combinations = []\n",
    "for combination in combinations:\n",
    "  if sum(combination) == 4:\n",
    "      al_atoms = combination[0] * 2\n",
    "      mg_atoms = combination[1] * 2\n",
    "      if al_atoms == 2 and mg_atoms == 2:\n",
    "          valid_combinations.append(combination)"
   ]
  },
  {
   "cell_type": "code",
   "execution_count": 28,
   "id": "94c0f140-f43f-48df-91c6-a032220d3765",
   "metadata": {
    "tags": []
   },
   "outputs": [
    {
     "data": {
      "text/plain": [
       "0.02"
      ]
     },
     "execution_count": 28,
     "metadata": {},
     "output_type": "execute_result"
    }
   ],
   "source": [
    "sum(combinations[0])"
   ]
  },
  {
   "cell_type": "code",
   "execution_count": 5,
   "id": "7e814e3e-4dd3-400f-a9b1-46660c0a0b89",
   "metadata": {},
   "outputs": [],
   "source": [
    "from matminer.featurizers.composition import ElementFraction\n",
    "\n",
    "# Initialize the featurizer\n",
    "featurizer = ElementFraction()\n",
    "\n",
    "# Extract the element fractions\n",
    "element_fractions = featurizer.featurize(composition)"
   ]
  },
  {
   "cell_type": "code",
   "execution_count": 7,
   "id": "9f7407b8-c1c3-414e-b47e-69869b92ec38",
   "metadata": {},
   "outputs": [
    {
     "name": "stdout",
     "output_type": "stream",
     "text": [
      "[0.1, 0, 0, 0, 0, 0, 0, 0.6, 0, 0, 0, 0.05, 0.05, 0.2, 0, 0, 0, 0, 0, 0, 0, 0, 0, 0, 0, 0, 0, 0, 0, 0, 0, 0, 0, 0, 0, 0, 0, 0, 0, 0, 0, 0, 0, 0, 0, 0, 0, 0, 0, 0, 0, 0, 0, 0, 0, 0, 0, 0, 0, 0, 0, 0, 0, 0, 0, 0, 0, 0, 0, 0, 0, 0, 0, 0, 0, 0, 0, 0, 0, 0, 0, 0, 0, 0, 0, 0, 0, 0, 0, 0, 0, 0, 0, 0, 0, 0, 0, 0, 0, 0, 0, 0, 0]\n"
     ]
    }
   ],
   "source": [
    "print(element_fractions)"
   ]
  },
  {
   "cell_type": "code",
   "execution_count": 8,
   "id": "6894f7f2-9bfc-405d-968c-782cc8b87ecf",
   "metadata": {},
   "outputs": [],
   "source": [
    "from matminer.featurizers.conversions import StrToComposition\n",
    "\n",
    "# Create a StrToComposition object\n",
    "str_to_comp = StrToComposition(target_col_id='composition')\n",
    "\n",
    "# Convert the string formula into a Composition object\n",
    "chemical_formula = \"(Si8)(Al2Mg2)O20(OH)4\"\n",
    "composition = str_to_comp.featurize(chemical_formula)\n"
   ]
  },
  {
   "cell_type": "code",
   "execution_count": 9,
   "id": "2859fcc6-6d27-41c1-8c5e-0c3a1fd3a22f",
   "metadata": {},
   "outputs": [
    {
     "name": "stdout",
     "output_type": "stream",
     "text": [
      "[Comp: Mg2 Al2 Si8 H4 O24]\n"
     ]
    }
   ],
   "source": [
    "print(composition)"
   ]
  },
  {
   "cell_type": "code",
   "execution_count": null,
   "id": "d883798c-efb7-404a-a7c6-61d572c80d65",
   "metadata": {},
   "outputs": [],
   "source": [
    "oxid_composition"
   ]
  }
 ],
 "metadata": {
  "kernelspec": {
   "display_name": "MachineLearning",
   "language": "python",
   "name": "machinelearning"
  },
  "language_info": {
   "codemirror_mode": {
    "name": "ipython",
    "version": 3
   },
   "file_extension": ".py",
   "mimetype": "text/x-python",
   "name": "python",
   "nbconvert_exporter": "python",
   "pygments_lexer": "ipython3",
   "version": "3.8.17"
  },
  "toc-autonumbering": false,
  "toc-showcode": true
 },
 "nbformat": 4,
 "nbformat_minor": 5
}
