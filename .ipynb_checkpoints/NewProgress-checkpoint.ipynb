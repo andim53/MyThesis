{
 "cells": [
  {
   "cell_type": "markdown",
   "id": "65c97722-ee28-41df-baa1-585d5b957235",
   "metadata": {
    "jp-MarkdownHeadingCollapsed": true,
    "tags": []
   },
   "source": [
    "# Retraining the model"
   ]
  },
  {
   "cell_type": "markdown",
   "id": "be489082-3e17-4512-ba23-f9b90751e077",
   "metadata": {
    "jp-MarkdownHeadingCollapsed": true,
    "tags": []
   },
   "source": [
    "## Importing a new training data"
   ]
  },
  {
   "cell_type": "code",
   "execution_count": 1,
   "id": "8ea30a69-8b04-4738-b583-2b9b8e4443de",
   "metadata": {},
   "outputs": [],
   "source": [
    "import pandas as pd\n",
    "\n",
    "df = pd.read_excel(\"./Database/DataBaseThermo.xlsx\")\n",
    "\n",
    "# Clean up the null data\n",
    "df = df.dropna()"
   ]
  },
  {
   "cell_type": "markdown",
   "id": "8a190162-ed9b-4032-8974-11d44fa614d2",
   "metadata": {
    "tags": []
   },
   "source": [
    "# Preprocessing"
   ]
  },
  {
   "cell_type": "markdown",
   "id": "8896edfc-25d5-462c-9a85-a7919f5ea69d",
   "metadata": {
    "jp-MarkdownHeadingCollapsed": true,
    "tags": []
   },
   "source": [
    "## Show the head of the data"
   ]
  },
  {
   "cell_type": "code",
   "execution_count": 2,
   "id": "9c7f665a-a385-4c2e-a0a6-5cc452791d0c",
   "metadata": {},
   "outputs": [
    {
     "data": {
      "text/html": [
       "<div>\n",
       "<style scoped>\n",
       "    .dataframe tbody tr th:only-of-type {\n",
       "        vertical-align: middle;\n",
       "    }\n",
       "\n",
       "    .dataframe tbody tr th {\n",
       "        vertical-align: top;\n",
       "    }\n",
       "\n",
       "    .dataframe thead th {\n",
       "        text-align: right;\n",
       "    }\n",
       "</style>\n",
       "<table border=\"1\" class=\"dataframe\">\n",
       "  <thead>\n",
       "    <tr style=\"text-align: right;\">\n",
       "      <th></th>\n",
       "      <th>material_id</th>\n",
       "      <th>formula_pretty</th>\n",
       "      <th>formula_anonymous</th>\n",
       "      <th>structure</th>\n",
       "      <th>uncorrected_energy_per_atom</th>\n",
       "      <th>energy_per_atom</th>\n",
       "      <th>formation_energy_per_atom</th>\n",
       "      <th>energy_above_hull</th>\n",
       "      <th>is_stable</th>\n",
       "    </tr>\n",
       "  </thead>\n",
       "  <tbody>\n",
       "    <tr>\n",
       "      <th>0</th>\n",
       "      <td>mp-1219344</td>\n",
       "      <td>Sm4Fe34C3</td>\n",
       "      <td>A3B4C34</td>\n",
       "      <td># generated using pymatgen\\ndata_Sm4Fe34C3\\n_s...</td>\n",
       "      <td>-8.179760</td>\n",
       "      <td>-8.179760</td>\n",
       "      <td>-0.020222</td>\n",
       "      <td>0.021925</td>\n",
       "      <td>False</td>\n",
       "    </tr>\n",
       "    <tr>\n",
       "      <th>1</th>\n",
       "      <td>mp-772625</td>\n",
       "      <td>Na2SnBAsO7</td>\n",
       "      <td>ABCD2E7</td>\n",
       "      <td># generated using pymatgen\\ndata_Na2SnBAsO7\\n_...</td>\n",
       "      <td>-6.122041</td>\n",
       "      <td>-6.522791</td>\n",
       "      <td>-2.130426</td>\n",
       "      <td>0.077780</td>\n",
       "      <td>False</td>\n",
       "    </tr>\n",
       "    <tr>\n",
       "      <th>2</th>\n",
       "      <td>mp-1176858</td>\n",
       "      <td>Li8(CoO2)5</td>\n",
       "      <td>A5B8C10</td>\n",
       "      <td># generated using pymatgen\\ndata_Li8(CoO2)5\\n_...</td>\n",
       "      <td>-5.347225</td>\n",
       "      <td>-6.002007</td>\n",
       "      <td>-1.634133</td>\n",
       "      <td>0.121999</td>\n",
       "      <td>False</td>\n",
       "    </tr>\n",
       "    <tr>\n",
       "      <th>3</th>\n",
       "      <td>mp-1199816</td>\n",
       "      <td>CuH12CN6Cl4O</td>\n",
       "      <td>ABCD4E6F12</td>\n",
       "      <td># generated using pymatgen\\ndata_CuH12CN6Cl4O\\...</td>\n",
       "      <td>-5.007588</td>\n",
       "      <td>-5.219948</td>\n",
       "      <td>-0.562110</td>\n",
       "      <td>0.157094</td>\n",
       "      <td>False</td>\n",
       "    </tr>\n",
       "    <tr>\n",
       "      <th>4</th>\n",
       "      <td>mp-1200053</td>\n",
       "      <td>LuFe5P3</td>\n",
       "      <td>AB3C5</td>\n",
       "      <td># generated using pymatgen\\ndata_LuFe5P3\\n_sym...</td>\n",
       "      <td>-7.764580</td>\n",
       "      <td>-7.764580</td>\n",
       "      <td>-0.751445</td>\n",
       "      <td>0.000000</td>\n",
       "      <td>True</td>\n",
       "    </tr>\n",
       "  </tbody>\n",
       "</table>\n",
       "</div>"
      ],
      "text/plain": [
       "  material_id formula_pretty formula_anonymous  \\\n",
       "0  mp-1219344      Sm4Fe34C3           A3B4C34   \n",
       "1   mp-772625     Na2SnBAsO7           ABCD2E7   \n",
       "2  mp-1176858     Li8(CoO2)5           A5B8C10   \n",
       "3  mp-1199816   CuH12CN6Cl4O        ABCD4E6F12   \n",
       "4  mp-1200053        LuFe5P3             AB3C5   \n",
       "\n",
       "                                           structure  \\\n",
       "0  # generated using pymatgen\\ndata_Sm4Fe34C3\\n_s...   \n",
       "1  # generated using pymatgen\\ndata_Na2SnBAsO7\\n_...   \n",
       "2  # generated using pymatgen\\ndata_Li8(CoO2)5\\n_...   \n",
       "3  # generated using pymatgen\\ndata_CuH12CN6Cl4O\\...   \n",
       "4  # generated using pymatgen\\ndata_LuFe5P3\\n_sym...   \n",
       "\n",
       "   uncorrected_energy_per_atom  energy_per_atom  formation_energy_per_atom  \\\n",
       "0                    -8.179760        -8.179760                  -0.020222   \n",
       "1                    -6.122041        -6.522791                  -2.130426   \n",
       "2                    -5.347225        -6.002007                  -1.634133   \n",
       "3                    -5.007588        -5.219948                  -0.562110   \n",
       "4                    -7.764580        -7.764580                  -0.751445   \n",
       "\n",
       "   energy_above_hull  is_stable  \n",
       "0           0.021925      False  \n",
       "1           0.077780      False  \n",
       "2           0.121999      False  \n",
       "3           0.157094      False  \n",
       "4           0.000000       True  "
      ]
     },
     "execution_count": 2,
     "metadata": {},
     "output_type": "execute_result"
    }
   ],
   "source": [
    "df.head()"
   ]
  },
  {
   "cell_type": "code",
   "execution_count": 4,
   "id": "9cfa004f-e673-44de-a3cd-25e3b5d082cf",
   "metadata": {},
   "outputs": [
    {
     "name": "stdout",
     "output_type": "stream",
     "text": [
      "<class 'pandas.core.frame.DataFrame'>\n",
      "Int64Index: 154607 entries, 0 to 154609\n",
      "Data columns (total 9 columns):\n",
      " #   Column                       Non-Null Count   Dtype  \n",
      "---  ------                       --------------   -----  \n",
      " 0   material_id                  154607 non-null  object \n",
      " 1   formula_pretty               154607 non-null  object \n",
      " 2   formula_anonymous            154607 non-null  object \n",
      " 3   structure                    154607 non-null  object \n",
      " 4   uncorrected_energy_per_atom  154607 non-null  float64\n",
      " 5   energy_per_atom              154607 non-null  float64\n",
      " 6   formation_energy_per_atom    154607 non-null  float64\n",
      " 7   energy_above_hull            154607 non-null  float64\n",
      " 8   is_stable                    154607 non-null  bool   \n",
      "dtypes: bool(1), float64(4), object(4)\n",
      "memory usage: 10.8+ MB\n"
     ]
    }
   ],
   "source": [
    "# Additional information for the data\n",
    "df.info()"
   ]
  },
  {
   "cell_type": "code",
   "execution_count": 6,
   "id": "c9f1d24f-10d0-4f6c-a941-f7e52750c7dc",
   "metadata": {},
   "outputs": [
    {
     "data": {
      "text/html": [
       "<div>\n",
       "<style scoped>\n",
       "    .dataframe tbody tr th:only-of-type {\n",
       "        vertical-align: middle;\n",
       "    }\n",
       "\n",
       "    .dataframe tbody tr th {\n",
       "        vertical-align: top;\n",
       "    }\n",
       "\n",
       "    .dataframe thead th {\n",
       "        text-align: right;\n",
       "    }\n",
       "</style>\n",
       "<table border=\"1\" class=\"dataframe\">\n",
       "  <thead>\n",
       "    <tr style=\"text-align: right;\">\n",
       "      <th></th>\n",
       "      <th>count</th>\n",
       "      <th>mean</th>\n",
       "      <th>std</th>\n",
       "      <th>min</th>\n",
       "      <th>25%</th>\n",
       "      <th>50%</th>\n",
       "      <th>75%</th>\n",
       "      <th>max</th>\n",
       "    </tr>\n",
       "  </thead>\n",
       "  <tbody>\n",
       "    <tr>\n",
       "      <th>uncorrected_energy_per_atom</th>\n",
       "      <td>154607.0</td>\n",
       "      <td>-9.097739</td>\n",
       "      <td>7.785031</td>\n",
       "      <td>-86.356348</td>\n",
       "      <td>-8.166404</td>\n",
       "      <td>-6.670235</td>\n",
       "      <td>-5.473184</td>\n",
       "      <td>-0.030166</td>\n",
       "    </tr>\n",
       "    <tr>\n",
       "      <th>energy_per_atom</th>\n",
       "      <td>154607.0</td>\n",
       "      <td>-9.103890</td>\n",
       "      <td>7.567719</td>\n",
       "      <td>-86.356348</td>\n",
       "      <td>-8.432188</td>\n",
       "      <td>-7.139921</td>\n",
       "      <td>-5.784004</td>\n",
       "      <td>-0.030166</td>\n",
       "    </tr>\n",
       "    <tr>\n",
       "      <th>formation_energy_per_atom</th>\n",
       "      <td>154607.0</td>\n",
       "      <td>-1.441602</td>\n",
       "      <td>1.198904</td>\n",
       "      <td>-11.864228</td>\n",
       "      <td>-2.424041</td>\n",
       "      <td>-1.541894</td>\n",
       "      <td>-0.491482</td>\n",
       "      <td>9.039157</td>\n",
       "    </tr>\n",
       "    <tr>\n",
       "      <th>energy_above_hull</th>\n",
       "      <td>154607.0</td>\n",
       "      <td>0.176498</td>\n",
       "      <td>0.454604</td>\n",
       "      <td>0.000000</td>\n",
       "      <td>0.002421</td>\n",
       "      <td>0.049121</td>\n",
       "      <td>0.147071</td>\n",
       "      <td>9.703381</td>\n",
       "    </tr>\n",
       "  </tbody>\n",
       "</table>\n",
       "</div>"
      ],
      "text/plain": [
       "                                count      mean       std        min  \\\n",
       "uncorrected_energy_per_atom  154607.0 -9.097739  7.785031 -86.356348   \n",
       "energy_per_atom              154607.0 -9.103890  7.567719 -86.356348   \n",
       "formation_energy_per_atom    154607.0 -1.441602  1.198904 -11.864228   \n",
       "energy_above_hull            154607.0  0.176498  0.454604   0.000000   \n",
       "\n",
       "                                  25%       50%       75%       max  \n",
       "uncorrected_energy_per_atom -8.166404 -6.670235 -5.473184 -0.030166  \n",
       "energy_per_atom             -8.432188 -7.139921 -5.784004 -0.030166  \n",
       "formation_energy_per_atom   -2.424041 -1.541894 -0.491482  9.039157  \n",
       "energy_above_hull            0.002421  0.049121  0.147071  9.703381  "
      ]
     },
     "execution_count": 6,
     "metadata": {},
     "output_type": "execute_result"
    }
   ],
   "source": [
    "# Checking the statistical value of the data\n",
    "df.describe().T"
   ]
  },
  {
   "cell_type": "code",
   "execution_count": 7,
   "id": "095b7aea-015a-4afb-8cc8-550baa9f664c",
   "metadata": {},
   "outputs": [
    {
     "name": "stdout",
     "output_type": "stream",
     "text": [
      "Before drop duplicates: (154607, 9)\n",
      "After drop duplicates: (154607, 9)\n"
     ]
    }
   ],
   "source": [
    "# Clean up duplicates\n",
    "print(f\"Before drop duplicates: {df.shape}\")\n",
    "df = df.drop_duplicates()\n",
    "print(f\"After drop duplicates: {df.shape}\")"
   ]
  },
  {
   "cell_type": "markdown",
   "id": "57ffddbd-48da-4814-b612-193ed724afd8",
   "metadata": {
    "jp-MarkdownHeadingCollapsed": true,
    "tags": []
   },
   "source": [
    "## Inspecting the energy formation"
   ]
  },
  {
   "cell_type": "code",
   "execution_count": 23,
   "id": "9a369b65-18f1-442c-b157-9202ed5afe91",
   "metadata": {},
   "outputs": [
    {
     "data": {
      "image/png": "[encoded data removed]",
      "text/plain": [
       "<Figure size 640x480 with 1 Axes>"
      ]
     },
     "metadata": {},
     "output_type": "display_data"
    }
   ],
   "source": [
    "# Plotting the energy formation in Histogram\n",
    "\n",
    "import matplotlib.pyplot as plt\n",
    "\n",
    "plt.hist(df['formation_energy_per_atom'])\n",
    "\n",
    "# Change the scale into log\n",
    "plt.yscale('log')\n",
    "plt.xlabel(r'Formation energy per atom ($eV/atom$)')\n",
    "plt.ylabel('Frequency')\n",
    "plt.savefig('./Images/NewProgress/HistFormEBeforeFilter.png')\n",
    "plt.show()"
   ]
  },
  {
   "cell_type": "code",
   "execution_count": 21,
   "id": "faa0bdcb-3ed5-4657-9e90-eca8888290e2",
   "metadata": {},
   "outputs": [
    {
     "data": {
      "text/plain": [
       "count    154607.000000\n",
       "mean         -1.441602\n",
       "std           1.198904\n",
       "min         -11.864228\n",
       "25%          -2.424041\n",
       "50%          -1.541894\n",
       "75%          -0.491482\n",
       "max           9.039157\n",
       "Name: formation_energy_per_atom, dtype: float64"
      ]
     },
     "execution_count": 21,
     "metadata": {},
     "output_type": "execute_result"
    }
   ],
   "source": [
    "# Inspecting the statistical value of formation energy\n",
    "\n",
    "df.describe().T.iloc[2]"
   ]
  },
  {
   "cell_type": "markdown",
   "id": "b5562af6-17c5-4832-bbf5-1ecf018bce7a",
   "metadata": {
    "jp-MarkdownHeadingCollapsed": true,
    "tags": []
   },
   "source": [
    "## Filtering the energy formation"
   ]
  },
  {
   "cell_type": "code",
   "execution_count": 25,
   "id": "b83649b3-9c42-4549-8e61-e8ef9298d567",
   "metadata": {},
   "outputs": [
    {
     "name": "stdout",
     "output_type": "stream",
     "text": [
      "Number of data before filter: (154607, 9)\n",
      "Number of data after filter: (127949, 9)\n",
      "Number of data that is thrown: 26658\n"
     ]
    }
   ],
   "source": [
    "## Filtering the formation energy into less than -1 but greater than -3\n",
    "\n",
    "df_filt = df.copy()\n",
    "df_filt = df_filt[df_filt['formation_energy_per_atom'] < 0]\n",
    "df_filt = df_filt[df_filt['formation_energy_per_atom'] > -3]\n",
    "\n",
    "print(f\"Number of data before filter: {df.shape}\")\n",
    "print(f\"Number of data after filter: {df_filt.shape}\")\n",
    "print(f\"Number of data that is thrown: {df.shape[0]-df_filt.shape[0]}\")"
   ]
  },
  {
   "cell_type": "code",
   "execution_count": 26,
   "id": "0f3f2253-f0fc-416c-8778-df3d492e352e",
   "metadata": {},
   "outputs": [
    {
     "data": {
      "image/png": "[encoded data removed]",
      "text/plain": [
       "<Figure size 640x480 with 1 Axes>"
      ]
     },
     "metadata": {},
     "output_type": "display_data"
    }
   ],
   "source": [
    "# Showing the current histogram image\n",
    "import matplotlib.pyplot as plt\n",
    "\n",
    "plt.hist(df_filt['formation_energy_per_atom'])\n",
    "\n",
    "# Change the scale into log\n",
    "plt.yscale('log')\n",
    "plt.xlabel(r'Formation energy per atom ($eV/atom$)')\n",
    "plt.ylabel('Frequency')\n",
    "plt.savefig('./Images/NewProgress/HistFormEAfterFilter.png')\n",
    "plt.show()"
   ]
  },
  {
   "cell_type": "code",
   "execution_count": 28,
   "id": "422aee9d-39a1-49f7-80a9-8eb108107031",
   "metadata": {},
   "outputs": [
    {
     "data": {
      "text/plain": [
       "count    127949.000000\n",
       "mean         -1.512169\n",
       "std           0.897662\n",
       "min          -2.999996\n",
       "25%          -2.333921\n",
       "50%          -1.591459\n",
       "75%          -0.641214\n",
       "max          -0.000029\n",
       "Name: formation_energy_per_atom, dtype: float64"
      ]
     },
     "execution_count": 28,
     "metadata": {},
     "output_type": "execute_result"
    }
   ],
   "source": [
    "# Inspecting the filtered statistical value of formation energy\n",
    "\n",
    "df_filt.describe().T.iloc[2]"
   ]
  },
  {
   "cell_type": "markdown",
   "id": "85e8ab38-5cc9-4ee3-9c61-0163168a2275",
   "metadata": {
    "jp-MarkdownHeadingCollapsed": true,
    "tags": []
   },
   "source": [
    "## Explanation for the filtering"
   ]
  },
  {
   "cell_type": "markdown",
   "id": "a60e561c-0685-4930-bba7-938d4956c33a",
   "metadata": {},
   "source": [
    "In this study, we recognize the pivotal role of thoughtful data preprocessing in achieving reliable and accurate results in machine learning. In our specific context, we have deliberately chosen to narrow our focus to a specific range of formation energy per atom, specifically from -3 to 0 eV/atom. Allow me to elaborate on the rationale behind this decision:\n",
    "\n",
    "1. Understanding the Range:\n",
    "    - The formation energy per atom signifies the energy required to assemble a crystal structure from its constituent atoms. This property holds immense significance in materials science and computational chemistry.\n",
    "    - By restricting our analysis to the range from -3 to 0 eV/atom, we intentionally target energies relevant to stable or near-stable materials. Negative values denote exothermic reactions (energy release), while positive values indicate endothermic reactions (energy absorption).\n",
    "2. Minimal Standard Deviation (STD):\n",
    "    - Our observation reveals that the STD within this specific range is remarkably low. This finding implies that the data points in this interval exhibit consistency and tight clustering.\n",
    "    - A diminished STD offers advantages for machine learning algorithms. When data points are less dispersed, models can learn effectively without undue influence from extreme outliers.\n",
    "3. Generalization and Model Performance:\n",
    "    - Generalization, the ability of a model to perform well on unseen data beyond the training set, is a critical goal.\n",
    "    - The minimal STD within our chosen range suggests that the data points represent the broader distribution more faithfully. Models trained on such data are likely to generalize better to new samples.\n",
    "    - Our deliberate focus on this narrow interval prioritizes stability and consistency, potentially enhancing predictive performance.\n",
    "4. Trade-Offs and Context:\n",
    "    - While a minimal STD is desirable, we must weigh the trade-offs. Narrowing the range may inadvertently exclude valuable information lying outside these bounds.\n",
    "    - Context matters: Consider whether materials with energies beyond this range are relevant to our research objectives. Striking the right balance is crucial."
   ]
  },
  {
   "cell_type": "markdown",
   "id": "f8ee2eee-6014-4586-b056-3bda97449f3e",
   "metadata": {},
   "source": [
    "# Performing Training to Machine Learning"
   ]
  },
  {
   "cell_type": "markdown",
   "id": "55e6a4ed-a47b-49ba-ad35-fd485dc72ca1",
   "metadata": {},
   "source": [
    "## Training using Formula Based Descriptors"
   ]
  },
  {
   "cell_type": "code",
   "execution_count": 33,
   "id": "9d96dafe-3cf6-47b6-87ad-32082fb73b24",
   "metadata": {},
   "outputs": [
    {
     "name": "stderr",
     "output_type": "stream",
     "text": [
      "StrToComposition: 100%|██████████| 127949/127949 [01:06<00:00, 1924.96it/s]\n"
     ]
    }
   ],
   "source": [
    "from matminer.featurizers.conversions import StrToComposition\n",
    "\n",
    "df_filt_comp = df_filt.copy()\n",
    "df_filt_comp = StrToComposition().featurize_dataframe(df_filt, \"formula_pretty\", ignore_errors=True)\n"
   ]
  },
  {
   "cell_type": "code",
   "execution_count": 34,
   "id": "216ef4ec-f53f-46f8-aef3-6a7e88154c0b",
   "metadata": {},
   "outputs": [
    {
     "data": {
      "text/html": [
       "<div>\n",
       "<style scoped>\n",
       "    .dataframe tbody tr th:only-of-type {\n",
       "        vertical-align: middle;\n",
       "    }\n",
       "\n",
       "    .dataframe tbody tr th {\n",
       "        vertical-align: top;\n",
       "    }\n",
       "\n",
       "    .dataframe thead th {\n",
       "        text-align: right;\n",
       "    }\n",
       "</style>\n",
       "<table border=\"1\" class=\"dataframe\">\n",
       "  <thead>\n",
       "    <tr style=\"text-align: right;\">\n",
       "      <th></th>\n",
       "      <th>material_id</th>\n",
       "      <th>formula_pretty</th>\n",
       "      <th>formula_anonymous</th>\n",
       "      <th>structure</th>\n",
       "      <th>uncorrected_energy_per_atom</th>\n",
       "      <th>energy_per_atom</th>\n",
       "      <th>formation_energy_per_atom</th>\n",
       "      <th>energy_above_hull</th>\n",
       "      <th>is_stable</th>\n",
       "      <th>composition</th>\n",
       "    </tr>\n",
       "  </thead>\n",
       "  <tbody>\n",
       "    <tr>\n",
       "      <th>0</th>\n",
       "      <td>mp-1219344</td>\n",
       "      <td>Sm4Fe34C3</td>\n",
       "      <td>A3B4C34</td>\n",
       "      <td># generated using pymatgen\\ndata_Sm4Fe34C3\\n_s...</td>\n",
       "      <td>-8.179760</td>\n",
       "      <td>-8.179760</td>\n",
       "      <td>-0.020222</td>\n",
       "      <td>0.021925</td>\n",
       "      <td>False</td>\n",
       "      <td>(Sm, Fe, C)</td>\n",
       "    </tr>\n",
       "    <tr>\n",
       "      <th>1</th>\n",
       "      <td>mp-772625</td>\n",
       "      <td>Na2SnBAsO7</td>\n",
       "      <td>ABCD2E7</td>\n",
       "      <td># generated using pymatgen\\ndata_Na2SnBAsO7\\n_...</td>\n",
       "      <td>-6.122041</td>\n",
       "      <td>-6.522791</td>\n",
       "      <td>-2.130426</td>\n",
       "      <td>0.077780</td>\n",
       "      <td>False</td>\n",
       "      <td>(Na, Sn, B, As, O)</td>\n",
       "    </tr>\n",
       "    <tr>\n",
       "      <th>2</th>\n",
       "      <td>mp-1176858</td>\n",
       "      <td>Li8(CoO2)5</td>\n",
       "      <td>A5B8C10</td>\n",
       "      <td># generated using pymatgen\\ndata_Li8(CoO2)5\\n_...</td>\n",
       "      <td>-5.347225</td>\n",
       "      <td>-6.002007</td>\n",
       "      <td>-1.634133</td>\n",
       "      <td>0.121999</td>\n",
       "      <td>False</td>\n",
       "      <td>(Li, Co, O)</td>\n",
       "    </tr>\n",
       "    <tr>\n",
       "      <th>3</th>\n",
       "      <td>mp-1199816</td>\n",
       "      <td>CuH12CN6Cl4O</td>\n",
       "      <td>ABCD4E6F12</td>\n",
       "      <td># generated using pymatgen\\ndata_CuH12CN6Cl4O\\...</td>\n",
       "      <td>-5.007588</td>\n",
       "      <td>-5.219948</td>\n",
       "      <td>-0.562110</td>\n",
       "      <td>0.157094</td>\n",
       "      <td>False</td>\n",
       "      <td>(Cu, H, C, N, Cl, O)</td>\n",
       "    </tr>\n",
       "    <tr>\n",
       "      <th>4</th>\n",
       "      <td>mp-1200053</td>\n",
       "      <td>LuFe5P3</td>\n",
       "      <td>AB3C5</td>\n",
       "      <td># generated using pymatgen\\ndata_LuFe5P3\\n_sym...</td>\n",
       "      <td>-7.764580</td>\n",
       "      <td>-7.764580</td>\n",
       "      <td>-0.751445</td>\n",
       "      <td>0.000000</td>\n",
       "      <td>True</td>\n",
       "      <td>(Lu, Fe, P)</td>\n",
       "    </tr>\n",
       "  </tbody>\n",
       "</table>\n",
       "</div>"
      ],
      "text/plain": [
       "  material_id formula_pretty formula_anonymous  \\\n",
       "0  mp-1219344      Sm4Fe34C3           A3B4C34   \n",
       "1   mp-772625     Na2SnBAsO7           ABCD2E7   \n",
       "2  mp-1176858     Li8(CoO2)5           A5B8C10   \n",
       "3  mp-1199816   CuH12CN6Cl4O        ABCD4E6F12   \n",
       "4  mp-1200053        LuFe5P3             AB3C5   \n",
       "\n",
       "                                           structure  \\\n",
       "0  # generated using pymatgen\\ndata_Sm4Fe34C3\\n_s...   \n",
       "1  # generated using pymatgen\\ndata_Na2SnBAsO7\\n_...   \n",
       "2  # generated using pymatgen\\ndata_Li8(CoO2)5\\n_...   \n",
       "3  # generated using pymatgen\\ndata_CuH12CN6Cl4O\\...   \n",
       "4  # generated using pymatgen\\ndata_LuFe5P3\\n_sym...   \n",
       "\n",
       "   uncorrected_energy_per_atom  energy_per_atom  formation_energy_per_atom  \\\n",
       "0                    -8.179760        -8.179760                  -0.020222   \n",
       "1                    -6.122041        -6.522791                  -2.130426   \n",
       "2                    -5.347225        -6.002007                  -1.634133   \n",
       "3                    -5.007588        -5.219948                  -0.562110   \n",
       "4                    -7.764580        -7.764580                  -0.751445   \n",
       "\n",
       "   energy_above_hull  is_stable           composition  \n",
       "0           0.021925      False           (Sm, Fe, C)  \n",
       "1           0.077780      False    (Na, Sn, B, As, O)  \n",
       "2           0.121999      False           (Li, Co, O)  \n",
       "3           0.157094      False  (Cu, H, C, N, Cl, O)  \n",
       "4           0.000000       True           (Lu, Fe, P)  "
      ]
     },
     "execution_count": 34,
     "metadata": {},
     "output_type": "execute_result"
    }
   ],
   "source": [
    "# Showing the head data\n",
    "df_filt_comp.head()"
   ]
  },
  {
   "cell_type": "code",
   "execution_count": 35,
   "id": "3cf07cac-0b58-420c-bcc5-b9d9555b698a",
   "metadata": {},
   "outputs": [
    {
     "name": "stdout",
     "output_type": "stream",
     "text": [
      "File saved\n"
     ]
    }
   ],
   "source": [
    "# Save the DataFrame to Excel\n",
    "df_filt_comp.to_excel(\"./Database/NewProgress/Filtered_Composition.xlsx\", index=False)\n",
    "print(\"File saved\")"
   ]
  },
  {
   "cell_type": "markdown",
   "id": "d9c0f609-f96b-45af-b1a3-30ae2ea880cd",
   "metadata": {},
   "source": [
    "## Extraction all descriptors"
   ]
  },
  {
   "cell_type": "code",
   "execution_count": 37,
   "id": "e4f1b066-c2ba-4273-a45e-3bbd65bf2c5d",
   "metadata": {},
   "outputs": [
    {
     "name": "stderr",
     "output_type": "stream",
     "text": [
      "ElementFraction: 100%|██████████| 127949/127949 [03:53<00:00, 548.86it/s]\n"
     ]
    }
   ],
   "source": [
    "from matminer.featurizers.composition import ElementFraction\n",
    "\n",
    "# Formula fraction descriptors\n",
    "df_fraction = df_filt_comp.copy()\n",
    "df_fraction = ElementFraction().featurize_dataframe(df_fraction, col_id=\"composition\", ignore_errors=True) # input the \"composition\" column to the featurizer"
   ]
  },
  {
   "cell_type": "code",
   "execution_count": 38,
   "id": "545dc961-2c09-4c41-b4cc-1f4a19e96b0b",
   "metadata": {},
   "outputs": [
    {
     "name": "stderr",
     "output_type": "stream",
     "text": [
      "ElementProperty: 100%|██████████| 127949/127949 [05:37<00:00, 379.38it/s]\n",
      "\n"
     ]
    }
   ],
   "source": [
    "from matminer.featurizers.composition import ElementProperty\n",
    "\n",
    "# Element Property Magpie Descriptors\n",
    "df_magpie = df_filt_comp.copy()\n",
    "\n",
    "ep_feat = ElementProperty.from_preset(preset_name=\"magpie\")\n",
    "df_magpie = ep_feat.featurize_dataframe(df_magpie, col_id=\"composition\", ignore_errors=True) "
   ]
  },
  {
   "cell_type": "code",
   "execution_count": 39,
   "id": "88bf5bdb-e5b1-4cc4-9329-f1f8565d54ca",
   "metadata": {
    "collapsed": true,
    "jupyter": {
     "outputs_hidden": true
    },
    "tags": []
   },
   "outputs": [
    {
     "name": "stderr",
     "output_type": "stream",
     "text": [
      "ElementProperty:  36%|███▌      | 46220/127949 [02:55<05:24, 251.61it/s]/home/andi/.local/lib/python3.8/site-packages/pymatgen/core/periodic_table.py:209: UserWarning: No electronegativity for He. Setting to NaN. This has no physical meaning, and is mainly done to avoid errors caused by the code expecting a float.\n",
      "  warnings.warn(\n",
      "ElementProperty:  56%|█████▌    | 71476/127949 [04:38<03:49, 246.20it/s]/home/andi/.local/lib/python3.8/site-packages/pymatgen/core/periodic_table.py:209: UserWarning: No electronegativity for He. Setting to NaN. This has no physical meaning, and is mainly done to avoid errors caused by the code expecting a float.\n",
      "  warnings.warn(\n",
      "ElementProperty: 100%|██████████| 127949/127949 [08:53<00:00, 239.62it/s]\n",
      "ElementProperty: 100%|██████████| 127949/127949 [08:53<00:00, 239.62it/s]"
     ]
    }
   ],
   "source": [
    "# Element Property Matminer Descriptor\n",
    "df_matminer = df_filt_comp.copy()\n",
    "\n",
    "ep_matminer = ElementProperty.from_preset(preset_name=\"matminer\")\n",
    "df_matminer = ep_matminer.featurize_dataframe(df_matminer, col_id=\"composition\", ignore_errors=True)"
   ]
  },
  {
   "cell_type": "code",
   "execution_count": 41,
   "id": "fbe50621-2bc9-4c53-9787-2391eedab5ea",
   "metadata": {
    "tags": []
   },
   "outputs": [
    {
     "name": "stderr",
     "output_type": "stream",
     "text": [
      "ElementProperty: 100%|██████████| 127949/127949 [05:18<00:00, 402.24it/s]\n",
      "\n"
     ]
    }
   ],
   "source": [
    "# Element Property DEML Descriptor\n",
    "df_deml = df_filt_comp.copy()\n",
    "\n",
    "ep_deml = ElementProperty.from_preset(preset_name=\"deml\")\n",
    "df_deml = ep_deml.featurize_dataframe(df_deml, col_id=\"composition\", ignore_errors=True)"
   ]
  },
  {
   "cell_type": "code",
   "execution_count": 42,
   "id": "c49ba5cf-14e1-41b1-8619-5d4eb7b5675a",
   "metadata": {},
   "outputs": [
    {
     "name": "stderr",
     "output_type": "stream",
     "text": [
      "ElementProperty: 100%|██████████| 127949/127949 [16:25<00:00, 129.82it/s]\n",
      "\n"
     ]
    }
   ],
   "source": [
    "# Element Property Matscholar Descriptor\n",
    "df_matscholar = df_filt_comp.copy()\n",
    "\n",
    "ep_matscholar = ElementProperty.from_preset(preset_name=\"matscholar_el\")\n",
    "df_matscholar = ep_matscholar.featurize_dataframe(df_matscholar, col_id=\"composition\", ignore_errors=True)\n"
   ]
  },
  {
   "cell_type": "code",
   "execution_count": 43,
   "id": "e4a36633-1751-45b2-a606-3641f0ca5f8f",
   "metadata": {},
   "outputs": [
    {
     "name": "stdout",
     "output_type": "stream",
     "text": [
      "File saved\n"
     ]
    }
   ],
   "source": [
    "# Cleaning up all the null value\n",
    "\n",
    "df_matscholar = df_matscholar.dropna()\n",
    "df_deml = df_deml.dropna()\n",
    "df_matminer = df_matminer.dropna()\n",
    "df_magpie = df_magpie.dropna()\n",
    "df_fraction = df_fraction.dropna()\n",
    "\n",
    "# Save all of the DataFrame to Excel\n",
    "df_matscholar.to_excel(\"./Database/NewProgress/Descrip_Matscholar.xlsx\", index=False)\n",
    "df_deml.to_excel(\"./Database/NewProgress/Descrip_DEML.xlsx\", index=False)\n",
    "df_matminer.to_excel(\"./Database/NewProgress/Descrip_Matminer.xlsx\", index=False)\n",
    "df_magpie.to_excel(\"./Database/NewProgress/Descrip_Magpie.xlsx\", index=False)\n",
    "df_fraction.to_excel(\"./Database/NewProgress/Descrip_Fraction.xlsx\", index=False)\n",
    "\n",
    "print(\"File saved\")"
   ]
  },
  {
   "cell_type": "markdown",
   "id": "44d67df1-99df-48db-9b9d-b482aea5cf12",
   "metadata": {},
   "source": [
    "## Descriptors Description\n",
    "\n",
    "1. Deml:\n",
    "    - The Deml preset provides a set of elemental properties suitable for materials science applications.\n",
    "    - It includes features related to electronegativity, atomic radius, and other relevant attributes.\n",
    "\n",
    "2. Matminer:\n",
    "    - The Matminer preset covers a broad range of elemental properties, making it versatile for various research contexts.\n",
    "    - It includes features related to atomic weights, electronegativity, and more.\n",
    "    \n",
    "3. Matscholar_el:\n",
    "    - The Matscholar_el preset focuses on elemental properties relevant for materials informatics and scholarly research.\n",
    "    - It includes features related to atomic weights, electronegativity, and more."
   ]
  },
  {
   "cell_type": "markdown",
   "id": "0fca756d-383c-4815-a527-ebe7d46863a2",
   "metadata": {},
   "source": [
    "## Preparing data to train"
   ]
  },
  {
   "cell_type": "code",
   "execution_count": 44,
   "id": "2a078218-13ee-4987-aaf6-3d7a7af3bc44",
   "metadata": {},
   "outputs": [],
   "source": [
    "import numpy as np\n",
    "\n",
    "df_matscholar = df_matscholar.dropna()\n",
    "df_deml = df_deml.dropna()\n",
    "df_matminer = df_matminer.dropna()\n",
    "df_magpie = df_magpie.dropna()\n",
    "df_fraction = df_fraction.dropna()\n",
    "\n",
    "excluded = np.array(df.columns)\n",
    "y_matscholar = df_matscholar['formation_energy_per_atom']\n",
    "y_deml = df_deml['formation_energy_per_atom']\n",
    "y_matminer = df_matminer['formation_energy_per_atom']\n",
    "y_magpie = df_magpie['formation_energy_per_atom']\n",
    "y_fraction = df_fraction['formation_energy_per_atom']\n",
    "\n",
    "X_magpie = df_magpie.drop(excluded, axis=1)\n",
    "X_fraction = df_fraction.drop(excluded, axis=1)\n",
    "X_matscholar = df_matscholar.drop(excluded, axis=1)\n",
    "X_deml = df_deml.drop(excluded, axis=1)\n",
    "X_matminer = df_matminer.drop(excluded, axis=1)\n",
    "\n",
    "_, feat_col_magpie = X_magpie.shape\n",
    "_, feat_col_fraction = X_fraction.shape\n",
    "_, feat_col_matscholar = X_matscholar.shape\n",
    "_, feat_col_deml = X_deml.shape\n",
    "_, feat_col_matminer = X_matminer.shape\n",
    "\n",
    "magpie = np.array(X_magpie.columns.values)\n",
    "fraction = np.array(X_fraction.columns.values)\n",
    "matscholar = np.array(X_matscholar.columns.values)\n",
    "deml = np.array(X_deml.columns.values)\n",
    "matminer = np.array(X_matminer.columns.values)\n",
    "\n",
    "np.save(\"TrainingData/NewProgress/X_magpie.npy\", magpie)\n",
    "np.save(\"TrainingData/NewProgress/X_fraction.npy\", fraction)\n",
    "np.save(\"TrainingData/NewProgress/X_matscholar.npy\", matscholar)\n",
    "np.save(\"TrainingData/NewProgress/X_deml.npy\", deml)\n",
    "np.save(\"TrainingData/NewProgress/X_matminer.npy\", matminer)\n",
    "\n",
    "np.save(\"TrainingData/NewProgress/y_magpie.npy\", y_magpie)\n",
    "np.save(\"TrainingData/NewProgress/y_fraction.npy\", y_fraction)\n",
    "np.save(\"TrainingData/NewProgress/y_matscholar.npy\", y_matscholar)\n",
    "np.save(\"TrainingData/NewProgress/y_deml.npy\", y_deml)\n",
    "np.save(\"TrainingData/NewProgress/y_matminer.npy\", y_matminer)"
   ]
  },
  {
   "cell_type": "code",
   "execution_count": null,
   "id": "0b8b11b3-a1a5-4ac7-8398-b3b41f5ecf00",
   "metadata": {},
   "outputs": [],
   "source": []
  }
 ],
 "metadata": {
  "kernelspec": {
   "display_name": "MachineLearning",
   "language": "python",
   "name": "machinelearning"
  },
  "language_info": {
   "codemirror_mode": {
    "name": "ipython",
    "version": 3
   },
   "file_extension": ".py",
   "mimetype": "text/x-python",
   "name": "python",
   "nbconvert_exporter": "python",
   "pygments_lexer": "ipython3",
   "version": "3.8.17"
  },
  "toc-autonumbering": true
 },
 "nbformat": 4,
 "nbformat_minor": 5
}
