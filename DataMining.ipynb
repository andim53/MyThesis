{
 "cells": [
  {
   "cell_type": "code",
   "execution_count": null,
   "id": "b1e47319-25a2-4108-9f8e-8d95c97bf4ea",
   "metadata": {},
   "outputs": [],
   "source": [
    "from mp_api.client import MPRester\n",
    "from emmet.core.summary import HasProps, summary_fields\n",
    "\n",
    "API = \"05pwL0aLyXiEGNsZRFhKcju39mwEqbz8\"\n",
    "\n",
    "necessary_field = ['material_id', 'formula_pretty','formula_anonymous', 'structure']\n",
    "wanted_field = summary_fields['thermo']+summary_fields['dielectric']\n",
    "wanted_properties = [HasProps.dielectric]\n",
    "\n",
    "with MPRester(API) as mpr:\n",
    "    docs = mpr.materials.summary.search(\n",
    "        has_props = wanted_properties, fields=necessary_field+wanted_field\n",
    "    )"
   ]
  },
  {
   "cell_type": "code",
   "execution_count": null,
   "id": "2211da54-2243-494d-bc65-789958394335",
   "metadata": {},
   "outputs": [],
   "source": [
    "import pandas as pd\n",
    "\n",
    "# Converting the data raw data into dataframe\n",
    "materials = []\n",
    "for material in docs:\n",
    "  material = dict(material)\n",
    "  materials.append(material)\n",
    "df = pd.DataFrame(materials)\n",
    "df = df[necessary_field+wanted_field]\n",
    "del df['decomposes_to']\n",
    "df = df.dropna()\n",
    "df.head()"
   ]
  },
  {
   "cell_type": "code",
   "execution_count": null,
   "id": "9444961b-51d3-47d3-94c8-aecc2b793865",
   "metadata": {},
   "outputs": [],
   "source": [
    "df.describe()"
   ]
  },
  {
   "cell_type": "code",
   "execution_count": null,
   "id": "6eadcd69-6874-47e4-b445-01d15ba5d72f",
   "metadata": {},
   "outputs": [],
   "source": [
    "from pymatgen.io.cif import CifWriter\n",
    "structure_cif = []\n",
    "for index, row in df.iterrows():\n",
    "    structure = row[\"structure\"]\n",
    "    cif_writer = CifWriter(structure)\n",
    "    cif_string = cif_writer.__str__()\n",
    "    structure_cif.append(cif_string)\n",
    "\n",
    "df['structure']=structure_cif\n",
    "\n",
    "filepath = \"Database\"\n",
    "filename = \"DataBase.xlsx\"\n",
    "\n",
    "# Save the DataFrame to an Excel file\n",
    "df.to_excel(filepath+\"/\"+filename, index=False)"
   ]
  },
  {
   "cell_type": "code",
   "execution_count": null,
   "id": "61190210-9f61-42fd-9f3f-d329b8468647",
   "metadata": {},
   "outputs": [],
   "source": [
    "from pymatgen.io.cif import CifParser\n",
    "\n",
    "\n",
    "filepath = \"<Fill your file path>\"\n",
    "filename = \"<Fill your file name>.csv\"\n",
    "\n",
    "# Save the DataFrame to an Excel file\n",
    "df = pd.read_csv(filepath+\"/\"+filename)\n",
    "\n",
    "# Function to convert CIF string to PyMatGen structure\n",
    "def cif_to_structure(cif_string):\n",
    "    try:\n",
    "        parser = CifParser.from_string(cif_string)\n",
    "        structure = parser.get_structures()[0]  # Assuming there's only one structure in the CIF\n",
    "        return structure\n",
    "    except Exception as e:\n",
    "        return None\n",
    "\n",
    "# Apply the function to create a new 'structure' column\n",
    "df['structure'] = df['structure'].apply(cif_to_structure)\n",
    "\n",
    "# Print the DataFrame with the new 'structure' column\n",
    "df.head()"
   ]
  },
  {
   "cell_type": "code",
   "execution_count": null,
   "id": "15449b14-5fd0-47e9-9d70-c99804cc155d",
   "metadata": {},
   "outputs": [],
   "source": [
    "import pandas as pd\n",
    "\n",
    "df = pd.read_excel('./Database/DataBase.xlsx')\n",
    "df.head()"
   ]
  }
 ],
 "metadata": {
  "kernelspec": {
   "display_name": "MachineLearning",
   "language": "python",
   "name": "machinelearning"
  },
  "language_info": {
   "codemirror_mode": {
    "name": "ipython",
    "version": 3
   },
   "file_extension": ".py",
   "mimetype": "text/x-python",
   "name": "python",
   "nbconvert_exporter": "python",
   "pygments_lexer": "ipython3",
   "version": "3.8.17"
  }
 },
 "nbformat": 4,
 "nbformat_minor": 5
}
